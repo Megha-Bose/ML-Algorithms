{
  "nbformat": 4,
  "nbformat_minor": 2,
  "metadata": {
    "orig_nbformat": 4,
    "colab": {
      "name": "2019111021_RNN.ipynb",
      "provenance": []
    },
    "language_info": {
      "name": "python"
    },
    "kernelspec": {
      "name": "python3",
      "display_name": "Python 3"
    }
  },
  "cells": [
    {
      "cell_type": "markdown",
      "source": [
        "# **RNN**\n",
        "A recurrent neural network (RNN) is a class of artificial neural network where connections between units form a directed cycle. This creates an internal state of the network which allows it to exhibit dynamic temporal behavior."
      ],
      "metadata": {
        "id": "Y45yhDufI5Uo"
      }
    },
    {
      "cell_type": "markdown",
      "source": [
        "IMDB sentiment classification task\n",
        "\n",
        "This is a dataset for binary sentiment classification containing substantially more data than previous benchmark datasets. IMDB provided a set of 25,000 highly polar movie reviews for training, and 25,000 for testing. There is additional unlabeled data for use as well. Raw text and already processed bag of words formats are provided.\n",
        "\n",
        "You can download the dataset from http://ai.stanford.edu/~amaas/data/sentiment/  or you can directly use \n",
        "\" from keras.datasets import imdb \" to import the dataset.\n",
        "\n",
        "Few points to be noted:\n",
        "Modules like SimpleRNN, LSTM, Activation layers, Dense layers, Dropout can be directly used from keras\n",
        "For preprocessing, you can use required "
      ],
      "metadata": {
        "id": "55i8db8uI5U3"
      }
    },
    {
      "cell_type": "code",
      "execution_count": 34,
      "source": [
        "#load the imdb dataset \n",
        "from tensorflow.keras.datasets import imdb\n",
        "\n",
        "vocabulary_size = 5000\n",
        "mx_len = 218\n",
        "batch_size = 64\n",
        "num_epochs = 4\n",
        "embedding_size = 32\n",
        "\n",
        "(X_train, y_train), (X_test, y_test) = imdb.load_data(num_words = vocabulary_size)\n",
        "num_features = len(X_train[0])\n",
        "print('Loaded dataset with {} training samples, {} test samples'.format(len(X_train), len(X_test)))"
      ],
      "outputs": [
        {
          "output_type": "stream",
          "name": "stdout",
          "text": [
            "Loaded dataset with 25000 training samples, 25000 test samples\n"
          ]
        }
      ],
      "metadata": {
        "id": "SozhvLNkI5U6",
        "colab": {
          "base_uri": "https://localhost:8080/"
        },
        "outputId": "ad23701b-d960-47e2-b06a-a20ae572df0f"
      }
    },
    {
      "cell_type": "code",
      "execution_count": 35,
      "source": [
        "#the review is stored as a sequence of integers. \n",
        "# These are word IDs that have been pre-assigned to individual words, and the label is an integer\n",
        "\n",
        "print('---review---')\n",
        "print(X_train)\n",
        "print('---label---')\n",
        "print(y_train)\n",
        "\n",
        "# to get the actual review\n",
        "word2id = imdb.get_word_index()\n",
        "id2word = {i: word for word, i in word2id.items()}\n",
        "print('---review with words---')\n",
        "print(id2word.get(i, ' ') for i in X_train)\n",
        "print('---label---')\n",
        "print(y_train)"
      ],
      "outputs": [
        {
          "output_type": "stream",
          "name": "stdout",
          "text": [
            "---review---\n",
            "[list([1, 14, 22, 16, 43, 530, 973, 1622, 1385, 65, 458, 4468, 66, 3941, 4, 173, 36, 256, 5, 25, 100, 43, 838, 112, 50, 670, 2, 9, 35, 480, 284, 5, 150, 4, 172, 112, 167, 2, 336, 385, 39, 4, 172, 4536, 1111, 17, 546, 38, 13, 447, 4, 192, 50, 16, 6, 147, 2025, 19, 14, 22, 4, 1920, 4613, 469, 4, 22, 71, 87, 12, 16, 43, 530, 38, 76, 15, 13, 1247, 4, 22, 17, 515, 17, 12, 16, 626, 18, 2, 5, 62, 386, 12, 8, 316, 8, 106, 5, 4, 2223, 2, 16, 480, 66, 3785, 33, 4, 130, 12, 16, 38, 619, 5, 25, 124, 51, 36, 135, 48, 25, 1415, 33, 6, 22, 12, 215, 28, 77, 52, 5, 14, 407, 16, 82, 2, 8, 4, 107, 117, 2, 15, 256, 4, 2, 7, 3766, 5, 723, 36, 71, 43, 530, 476, 26, 400, 317, 46, 7, 4, 2, 1029, 13, 104, 88, 4, 381, 15, 297, 98, 32, 2071, 56, 26, 141, 6, 194, 2, 18, 4, 226, 22, 21, 134, 476, 26, 480, 5, 144, 30, 2, 18, 51, 36, 28, 224, 92, 25, 104, 4, 226, 65, 16, 38, 1334, 88, 12, 16, 283, 5, 16, 4472, 113, 103, 32, 15, 16, 2, 19, 178, 32])\n",
            " list([1, 194, 1153, 194, 2, 78, 228, 5, 6, 1463, 4369, 2, 134, 26, 4, 715, 8, 118, 1634, 14, 394, 20, 13, 119, 954, 189, 102, 5, 207, 110, 3103, 21, 14, 69, 188, 8, 30, 23, 7, 4, 249, 126, 93, 4, 114, 9, 2300, 1523, 5, 647, 4, 116, 9, 35, 2, 4, 229, 9, 340, 1322, 4, 118, 9, 4, 130, 4901, 19, 4, 1002, 5, 89, 29, 952, 46, 37, 4, 455, 9, 45, 43, 38, 1543, 1905, 398, 4, 1649, 26, 2, 5, 163, 11, 3215, 2, 4, 1153, 9, 194, 775, 7, 2, 2, 349, 2637, 148, 605, 2, 2, 15, 123, 125, 68, 2, 2, 15, 349, 165, 4362, 98, 5, 4, 228, 9, 43, 2, 1157, 15, 299, 120, 5, 120, 174, 11, 220, 175, 136, 50, 9, 4373, 228, 2, 5, 2, 656, 245, 2350, 5, 4, 2, 131, 152, 491, 18, 2, 32, 2, 1212, 14, 9, 6, 371, 78, 22, 625, 64, 1382, 9, 8, 168, 145, 23, 4, 1690, 15, 16, 4, 1355, 5, 28, 6, 52, 154, 462, 33, 89, 78, 285, 16, 145, 95])\n",
            " list([1, 14, 47, 8, 30, 31, 7, 4, 249, 108, 7, 4, 2, 54, 61, 369, 13, 71, 149, 14, 22, 112, 4, 2401, 311, 12, 16, 3711, 33, 75, 43, 1829, 296, 4, 86, 320, 35, 534, 19, 263, 4821, 1301, 4, 1873, 33, 89, 78, 12, 66, 16, 4, 360, 7, 4, 58, 316, 334, 11, 4, 1716, 43, 645, 662, 8, 257, 85, 1200, 42, 1228, 2578, 83, 68, 3912, 15, 36, 165, 1539, 278, 36, 69, 2, 780, 8, 106, 14, 2, 1338, 18, 6, 22, 12, 215, 28, 610, 40, 6, 87, 326, 23, 2300, 21, 23, 22, 12, 272, 40, 57, 31, 11, 4, 22, 47, 6, 2307, 51, 9, 170, 23, 595, 116, 595, 1352, 13, 191, 79, 638, 89, 2, 14, 9, 8, 106, 607, 624, 35, 534, 6, 227, 7, 129, 113])\n",
            " ...\n",
            " list([1, 11, 6, 230, 245, 2, 9, 6, 1225, 446, 2, 45, 2174, 84, 2, 4007, 21, 4, 912, 84, 2, 325, 725, 134, 2, 1715, 84, 5, 36, 28, 57, 1099, 21, 8, 140, 8, 703, 5, 2, 84, 56, 18, 1644, 14, 9, 31, 7, 4, 2, 1209, 2295, 2, 1008, 18, 6, 20, 207, 110, 563, 12, 8, 2901, 2, 8, 97, 6, 20, 53, 4767, 74, 4, 460, 364, 1273, 29, 270, 11, 960, 108, 45, 40, 29, 2961, 395, 11, 6, 4065, 500, 7, 2, 89, 364, 70, 29, 140, 4, 64, 4780, 11, 4, 2678, 26, 178, 4, 529, 443, 2, 5, 27, 710, 117, 2, 2, 165, 47, 84, 37, 131, 818, 14, 595, 10, 10, 61, 1242, 1209, 10, 10, 288, 2260, 1702, 34, 2901, 2, 4, 65, 496, 4, 231, 7, 790, 5, 6, 320, 234, 2766, 234, 1119, 1574, 7, 496, 4, 139, 929, 2901, 2, 2, 5, 4241, 18, 4, 2, 2, 250, 11, 1818, 2, 4, 4217, 2, 747, 1115, 372, 1890, 1006, 541, 2, 7, 4, 59, 2, 4, 3586, 2])\n",
            " list([1, 1446, 2, 69, 72, 3305, 13, 610, 930, 8, 12, 582, 23, 5, 16, 484, 685, 54, 349, 11, 4120, 2959, 45, 58, 1466, 13, 197, 12, 16, 43, 23, 2, 5, 62, 30, 145, 402, 11, 4131, 51, 575, 32, 61, 369, 71, 66, 770, 12, 1054, 75, 100, 2198, 8, 4, 105, 37, 69, 147, 712, 75, 3543, 44, 257, 390, 5, 69, 263, 514, 105, 50, 286, 1814, 23, 4, 123, 13, 161, 40, 5, 421, 4, 116, 16, 897, 13, 2, 40, 319, 2, 112, 2, 11, 4803, 121, 25, 70, 3468, 4, 719, 3798, 13, 18, 31, 62, 40, 8, 2, 4, 2, 7, 14, 123, 5, 942, 25, 8, 721, 12, 145, 5, 202, 12, 160, 580, 202, 12, 6, 52, 58, 2, 92, 401, 728, 12, 39, 14, 251, 8, 15, 251, 5, 2, 12, 38, 84, 80, 124, 12, 9, 23])\n",
            " list([1, 17, 6, 194, 337, 7, 4, 204, 22, 45, 254, 8, 106, 14, 123, 4, 2, 270, 2, 5, 2, 2, 732, 2098, 101, 405, 39, 14, 1034, 4, 1310, 9, 115, 50, 305, 12, 47, 4, 168, 5, 235, 7, 38, 111, 699, 102, 7, 4, 4039, 2, 9, 24, 6, 78, 1099, 17, 2345, 2, 21, 27, 2, 2, 5, 2, 1603, 92, 1183, 4, 1310, 7, 4, 204, 42, 97, 90, 35, 221, 109, 29, 127, 27, 118, 8, 97, 12, 157, 21, 2, 2, 9, 6, 66, 78, 1099, 4, 631, 1191, 5, 2642, 272, 191, 1070, 6, 2, 8, 2197, 2, 2, 544, 5, 383, 1271, 848, 1468, 2, 497, 2, 8, 1597, 2, 2, 21, 60, 27, 239, 9, 43, 2, 209, 405, 10, 10, 12, 764, 40, 4, 248, 20, 12, 16, 5, 174, 1791, 72, 7, 51, 6, 1739, 22, 4, 204, 131, 9])]\n",
            "---label---\n",
            "[1 0 0 ... 0 1 0]\n",
            "---review with words---\n",
            "<generator object <genexpr> at 0x7fa48979abd0>\n",
            "---label---\n",
            "[1 0 0 ... 0 1 0]\n"
          ]
        }
      ],
      "metadata": {
        "id": "NrilwfurI5VA",
        "colab": {
          "base_uri": "https://localhost:8080/"
        },
        "outputId": "0be7dcc0-610f-4e76-8b05-4169f56e57d9"
      }
    },
    {
      "cell_type": "code",
      "execution_count": 36,
      "source": [
        "#pad sequences (write your code here)\n",
        "from tensorflow.keras.preprocessing import sequence\n",
        "\n",
        "X_train = sequence.pad_sequences(X_train, maxlen=mx_len)\n",
        "X_test = sequence.pad_sequences(X_test, maxlen=mx_len)"
      ],
      "outputs": [],
      "metadata": {
        "id": "h6upWxEWI5VC"
      }
    },
    {
      "cell_type": "code",
      "execution_count": 37,
      "source": [
        "#design a RNN model (write your code)\n",
        "\n",
        "from tensorflow.keras import Sequential\n",
        "from tensorflow.keras.layers import Embedding, LSTM, Dense, Dropout, Activation, SimpleRNN\n",
        "\n",
        "rnn_model = Sequential()\n",
        "rnn_model.add(Embedding(vocabulary_size, embedding_size, input_length=num_features))\n",
        "rnn_model.add(SimpleRNN(units=16, input_shape=(vocabulary_size, mx_len), activation=\"relu\"))\n",
        "rnn_model.add(Dense(1))\n",
        "rnn_model.add(Activation(\"sigmoid\"))\n",
        "rnn_model.summary()"
      ],
      "outputs": [
        {
          "output_type": "stream",
          "name": "stdout",
          "text": [
            "Model: \"sequential_6\"\n",
            "_________________________________________________________________\n",
            " Layer (type)                Output Shape              Param #   \n",
            "=================================================================\n",
            " embedding_5 (Embedding)     (None, 218, 32)           160000    \n",
            "                                                                 \n",
            " simple_rnn_5 (SimpleRNN)    (None, 16)                784       \n",
            "                                                                 \n",
            " dense_5 (Dense)             (None, 1)                 17        \n",
            "                                                                 \n",
            " activation_5 (Activation)   (None, 1)                 0         \n",
            "                                                                 \n",
            "=================================================================\n",
            "Total params: 160,801\n",
            "Trainable params: 160,801\n",
            "Non-trainable params: 0\n",
            "_________________________________________________________________\n"
          ]
        }
      ],
      "metadata": {
        "id": "-RcCOpeNI5VF",
        "colab": {
          "base_uri": "https://localhost:8080/"
        },
        "outputId": "95a902ae-c41d-49e5-a090-ef86ae5d1dfd"
      }
    },
    {
      "cell_type": "code",
      "execution_count": 38,
      "source": [
        "# train and evaluate your model\n",
        "# choose your loss function and optimizer and mention the reason to choose that particular loss function and optimizer\n",
        "# use accuracy as the evaluation metric\n",
        "\n",
        "rnn_model.compile(loss='binary_crossentropy', optimizer='rmsprop', metrics=['accuracy'])"
      ],
      "outputs": [],
      "metadata": {
        "id": "InQ2TED3I5VI"
      }
    },
    {
      "cell_type": "markdown",
      "source": [
        "The binary cross entropy loss function has been used as our problem is a binary classification problem. RMSprop is used as optimiser as it is a fast and efficient optimiser often used in DL problems."
      ],
      "metadata": {
        "id": "MnqxLG0ATpYF"
      }
    },
    {
      "cell_type": "code",
      "execution_count": 39,
      "source": [
        "X_valid, y_valid = X_train[:batch_size], y_train[:batch_size]\n",
        "X_train2, y_train2 = X_train[batch_size:], y_train[batch_size:]\n",
        "rnn_model.fit(X_train2, y_train2, validation_data=(X_valid, y_valid), batch_size=batch_size, epochs=num_epochs)"
      ],
      "outputs": [
        {
          "output_type": "stream",
          "name": "stdout",
          "text": [
            "Epoch 1/4\n",
            "390/390 [==============================] - 17s 42ms/step - loss: 0.5381 - accuracy: 0.7533 - val_loss: 0.3122 - val_accuracy: 0.8906\n",
            "Epoch 2/4\n",
            "390/390 [==============================] - 16s 42ms/step - loss: 0.3614 - accuracy: 0.8520 - val_loss: 0.3113 - val_accuracy: 0.9062\n",
            "Epoch 3/4\n",
            "390/390 [==============================] - 16s 41ms/step - loss: 0.3192 - accuracy: 0.8702 - val_loss: 0.2348 - val_accuracy: 0.8594\n",
            "Epoch 4/4\n",
            "390/390 [==============================] - 16s 41ms/step - loss: 0.2939 - accuracy: 0.8834 - val_loss: 0.2499 - val_accuracy: 0.8594\n"
          ]
        },
        {
          "output_type": "execute_result",
          "data": {
            "text/plain": [
              "<keras.callbacks.History at 0x7fa490eb17d0>"
            ]
          },
          "metadata": {},
          "execution_count": 39
        }
      ],
      "metadata": {
        "id": "q6A9Q0xmI5VJ",
        "colab": {
          "base_uri": "https://localhost:8080/"
        },
        "outputId": "09cdb814-1182-4ab3-c549-e244fbcc923a"
      }
    },
    {
      "cell_type": "code",
      "execution_count": 40,
      "source": [
        "#evaluate the model using model.evaluate()\n",
        "scores = rnn_model.evaluate(X_test, y_test)\n",
        "print('Accuracy:', scores[1])"
      ],
      "outputs": [
        {
          "output_type": "stream",
          "name": "stdout",
          "text": [
            "782/782 [==============================] - 7s 9ms/step - loss: 0.3287 - accuracy: 0.8544\n",
            "Accuracy: 0.8544399738311768\n"
          ]
        }
      ],
      "metadata": {
        "id": "YTXG__EmI5VM",
        "colab": {
          "base_uri": "https://localhost:8080/"
        },
        "outputId": "9f71bdc9-5704-415b-a615-889887b978e0"
      }
    },
    {
      "cell_type": "markdown",
      "source": [
        "# **LSTM**\n",
        "\n",
        "Instead of using a RNN, now try using a LSTM model and compare both of them. Which of those performed better and why ?\n"
      ],
      "metadata": {
        "id": "D1uSo8DgI5VN"
      }
    },
    {
      "cell_type": "code",
      "execution_count": 42,
      "source": [
        "lstm_model = Sequential()\n",
        "lstm_model.add(Embedding(vocabulary_size, embedding_size, input_length=mx_len) )\n",
        "lstm_model.add(LSTM(100) )\n",
        "lstm_model.add(Dense(1, activation='sigmoid'))\n",
        "print(lstm_model.summary())"
      ],
      "outputs": [
        {
          "output_type": "stream",
          "name": "stdout",
          "text": [
            "Model: \"sequential_8\"\n",
            "_________________________________________________________________\n",
            " Layer (type)                Output Shape              Param #   \n",
            "=================================================================\n",
            " embedding_6 (Embedding)     (None, 218, 32)           160000    \n",
            "                                                                 \n",
            " lstm (LSTM)                 (None, 100)               53200     \n",
            "                                                                 \n",
            " dense_6 (Dense)             (None, 1)                 101       \n",
            "                                                                 \n",
            "=================================================================\n",
            "Total params: 213,301\n",
            "Trainable params: 213,301\n",
            "Non-trainable params: 0\n",
            "_________________________________________________________________\n",
            "None\n"
          ]
        }
      ],
      "metadata": {
        "id": "Bk4rLYHwI5VP",
        "colab": {
          "base_uri": "https://localhost:8080/"
        },
        "outputId": "05c8d64f-2b54-4293-ed1a-9d57e6edeafd"
      }
    },
    {
      "cell_type": "code",
      "execution_count": 43,
      "source": [
        "lstm_model.compile(loss='binary_crossentropy', optimizer='adam', metrics=['accuracy'])"
      ],
      "outputs": [],
      "metadata": {
        "id": "JcXt1gMnrTTb"
      }
    },
    {
      "cell_type": "code",
      "execution_count": 44,
      "source": [
        "(X_train, y_train), (X_test, y_test) = imdb.load_data(num_words = vocabulary_size)\n",
        "X_train = sequence.pad_sequences(X_train, maxlen=mx_len)\n",
        "X_test = sequence.pad_sequences(X_test, maxlen=mx_len)"
      ],
      "outputs": [],
      "metadata": {
        "id": "5IIoqlaQrTVm"
      }
    },
    {
      "cell_type": "code",
      "execution_count": 45,
      "source": [
        "X_valid, y_valid = X_train[:batch_size], y_train[:batch_size]\n",
        "X_train2, y_train2 = X_train[batch_size:], y_train[batch_size:]\n",
        "lstm_model.fit(X_train2, y_train2, validation_data=(X_valid, y_valid), batch_size=batch_size, epochs=num_epochs)"
      ],
      "outputs": [
        {
          "output_type": "stream",
          "name": "stdout",
          "text": [
            "Epoch 1/4\n",
            "390/390 [==============================] - 84s 212ms/step - loss: 0.4782 - accuracy: 0.7592 - val_loss: 0.2626 - val_accuracy: 0.9062\n",
            "Epoch 2/4\n",
            "390/390 [==============================] - 82s 211ms/step - loss: 0.3124 - accuracy: 0.8744 - val_loss: 0.2217 - val_accuracy: 0.8906\n",
            "Epoch 3/4\n",
            "390/390 [==============================] - 82s 211ms/step - loss: 0.2542 - accuracy: 0.9006 - val_loss: 0.2011 - val_accuracy: 0.9375\n",
            "Epoch 4/4\n",
            "390/390 [==============================] - 82s 210ms/step - loss: 0.2189 - accuracy: 0.9157 - val_loss: 0.2271 - val_accuracy: 0.9219\n"
          ]
        },
        {
          "output_type": "execute_result",
          "data": {
            "text/plain": [
              "<keras.callbacks.History at 0x7fa4865a3850>"
            ]
          },
          "metadata": {},
          "execution_count": 45
        }
      ],
      "metadata": {
        "colab": {
          "base_uri": "https://localhost:8080/"
        },
        "id": "aKVtWYnwrTYh",
        "outputId": "bade0058-b089-4fdc-b3f4-31ad7706af9a"
      }
    },
    {
      "cell_type": "code",
      "execution_count": 47,
      "source": [
        "scores = lstm_model.evaluate(X_test, y_test)\n",
        "print('Accuracy:', scores[1])"
      ],
      "outputs": [
        {
          "output_type": "stream",
          "name": "stdout",
          "text": [
            "782/782 [==============================] - 30s 37ms/step - loss: 0.3178 - accuracy: 0.8687\n",
            "Accuracy: 0.8687199950218201\n"
          ]
        }
      ],
      "metadata": {
        "colab": {
          "base_uri": "https://localhost:8080/"
        },
        "id": "KletqM3wrq2I",
        "outputId": "e8d1bd6d-635d-446b-fc2e-2d7a0f21aef2"
      }
    }
  ]
}