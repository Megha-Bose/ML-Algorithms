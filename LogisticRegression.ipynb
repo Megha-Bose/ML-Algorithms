{
 "cells": [
  {
   "cell_type": "code",
   "execution_count": 1,
   "source": [
    "import numpy as np\n",
    "import pandas as pd\n",
    "import matplotlib.pyplot as plt\n",
    "from sklearn.datasets import make_blobs"
   ],
   "outputs": [],
   "metadata": {}
  },
  {
   "cell_type": "raw",
   "source": [
    "5. For the sample dataset provided, write a code to perform logistic regression. Plot a decision boundary between the two classes. Sample result image is provided. Do not use direct inbuilt functions. Numpy or other math libraries are allowed."
   ],
   "metadata": {}
  },
  {
   "cell_type": "code",
   "execution_count": 2,
   "source": [
    "# Given Dataset\n",
    "X, y =  make_blobs(n_samples=100, centers=[[2,4],[4,2]], random_state=20)"
   ],
   "outputs": [],
   "metadata": {}
  },
  {
   "cell_type": "code",
   "execution_count": 3,
   "source": [
    "# Sigmod Function\n",
    "def sigmoid(z):\n",
    "    return 1.0/(1 + np.exp(-z))\n",
    "\n",
    "# Loss Function\n",
    "def get_loss(y, yhat):\n",
    "    loss = -np.mean(y*(np.log(yhat)) - (1 - y) * np.log(1 - yhat))\n",
    "    return loss"
   ],
   "outputs": [],
   "metadata": {}
  },
  {
   "cell_type": "code",
   "execution_count": 4,
   "source": [
    "# Estimating logistic regression coefficients using stochastic gradient descent\n",
    "def train(X, y, epochs, lr): \n",
    "    m, n = X.shape\n",
    "    # Reshaping y\n",
    "    y = y.reshape(m, 1)\n",
    "    \n",
    "    # Initializing weights and bias to zeros\n",
    "    w = np.zeros((n, 1))\n",
    "    b = 0\n",
    "    \n",
    "    min_loss = 0\n",
    "    res_w = w\n",
    "    res_b = b\n",
    "        \n",
    "    # Training loop\n",
    "    for _ in range(epochs):\n",
    "        xb = X\n",
    "        yb = y\n",
    "\n",
    "        # Calculating prediction\n",
    "        yhat = sigmoid(np.dot(xb, w) + b)\n",
    "\n",
    "        # Getting the gradients of loss w.r.t parameters\n",
    "        dw = (1 / m) * np.dot(xb.T, (yhat - yb))\n",
    "        db = (1 / m) * np.sum((yhat - yb)) \n",
    "\n",
    "        # Updating the weights and bias\n",
    "        w -= lr * dw\n",
    "        b -= lr * db\n",
    "        \n",
    "        # Calculating loss and appending it in the list\n",
    "        l = get_loss(y, sigmoid(np.dot(X, w) + b))\n",
    "        \n",
    "        # taking the minimum loss\n",
    "        if l < min_loss:\n",
    "            res_w = w\n",
    "            res_b = b\n",
    "            min_loss = l\n",
    "        \n",
    "    # returning weights, bias and losses\n",
    "    return res_w, res_b, min_loss"
   ],
   "outputs": [],
   "metadata": {}
  },
  {
   "cell_type": "code",
   "execution_count": 5,
   "source": [
    "# Plotting linear decision boundary\n",
    "def plot_decision_boundary(X, w, b):\n",
    "    # y = mx + c = w.X + b\n",
    "    # Solving we find m and c\n",
    "    x1 = [min(X[:,0]), max(X[:,0])]\n",
    "    m = -w[0] / w[1]\n",
    "    c = -b / w[1]\n",
    "    x2 = m * x1 + c\n",
    "    \n",
    "    # Visualize dataset \n",
    "    plt.plot(X[:,0][y==0],X[:,1][y==0],'o',color='red')\n",
    "    plt.plot(X[:,0][y==1],X[:,1][y==1],'^',color='blue')\n",
    "\n",
    "    plt.xlabel(\"x1\")\n",
    "    plt.ylabel(\"x2\")\n",
    "    plt.title('Decision Boundary')\n",
    "    plt.plot(x1, x2, 'y-')"
   ],
   "outputs": [],
   "metadata": {}
  },
  {
   "cell_type": "code",
   "execution_count": 6,
   "source": [
    "alpha = 0.01 # learning rate\n",
    "num_epoch = 2000\n",
    "\n",
    "# Training phase \n",
    "w, b, loss = train(X, y, epochs=num_epoch, lr=alpha)\n",
    "\n",
    "# Plotting Decision Boundary\n",
    "print(w, b)\n",
    "plot_decision_boundary(X, w, b)"
   ],
   "outputs": [
    {
     "output_type": "stream",
     "name": "stdout",
     "text": [
      "[[ 1.50126429]\n",
      " [-1.47891617]] -0.25541236586485805\n"
     ]
    },
    {
     "output_type": "display_data",
     "data": {
      "image/png": "[encoded data removed]",
      "text/plain": [
       "<Figure size 432x288 with 1 Axes>"
      ]
     },
     "metadata": {
      "needs_background": "light"
     }
    }
   ],
   "metadata": {}
  }
 ],
 "metadata": {
  "kernelspec": {
   "name": "python3",
   "display_name": "Python 3.8.10 64-bit"
  },
  "language_info": {
   "codemirror_mode": {
    "name": "ipython",
    "version": 3
   },
   "file_extension": ".py",
   "mimetype": "text/x-python",
   "name": "python",
   "nbconvert_exporter": "python",
   "pygments_lexer": "ipython3",
   "version": "3.8.10"
  },
  "interpreter": {
   "hash": "e7370f93d1d0cde622a1f8e1c04877d8463912d04d973331ad4851f04de6915a"
  }
 },
 "nbformat": 4,
 "nbformat_minor": 4
}