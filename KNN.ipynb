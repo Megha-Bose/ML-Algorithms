{
 "cells": [
  {
   "cell_type": "code",
   "execution_count": 22,
   "source": [
    "import numpy as np\n",
    "import pandas as pd\n",
    "from math import sqrt\n",
    "from sklearn.model_selection import train_test_split"
   ],
   "outputs": [],
   "metadata": {}
  },
  {
   "cell_type": "raw",
   "source": [
    "4. Write a code to perform KNN classification on Iris dataset provided. Use the startercode for loading the train, test dataset. Report the accuracy obtained on test dataset. Do not use direct inbuilt functions. Numpy or other math libraries are allowed."
   ],
   "metadata": {}
  },
  {
   "cell_type": "code",
   "execution_count": 23,
   "source": [
    "# Calculating euclidean distance between two vectors\n",
    "def get_distance(v1, v2):\n",
    "    dist = 0.0\n",
    "    for i in range(len(v1)):\n",
    "        dist += (v1[i] - v2[i]) ** 2\n",
    "    return sqrt(dist)\n",
    "\n",
    "# Get neighbors of a data point\n",
    "def get_neighbours(X_train, y_train, x_test_val, k):\n",
    "    neigh_dist = []\n",
    "    neighbours = []\n",
    "    index = 0\n",
    "    for x_train_val in X_train:\n",
    "        y_train_val = y_train[index]\n",
    "        d = get_distance(x_train_val, x_test_val)\n",
    "        neigh_dist.append([d, x_train_val, y_train_val])\n",
    "        index += 1\n",
    "    # sort in increasing order according to distance from the test point\n",
    "    neigh_dist.sort(key=lambda tup: tup[0])\n",
    "    for i in range(k):\n",
    "        neighbours.append(neigh_dist[i])\n",
    "    return neighbours\n",
    "\n",
    "# KNN algorithm\n",
    "def knn(X_train, y_train, X_test, k):\n",
    "    predictions = []\n",
    "    for test_val in X_test:\n",
    "        neighbours = get_neighbours(X_train, y_train, test_val, k)\n",
    "        predicted_values = [neighbour[2] for neighbour in neighbours]\n",
    "        predicted = max(set(predicted_values), key=predicted_values.count)\n",
    "        predictions.append(predicted)\n",
    "    return(predictions)"
   ],
   "outputs": [],
   "metadata": {}
  },
  {
   "cell_type": "raw",
   "source": [
    "KNN on the Iris Flowers Dataset"
   ],
   "metadata": {}
  },
  {
   "cell_type": "code",
   "execution_count": 24,
   "source": [
    "# Loading data\n",
    "iris = pd.read_csv('Iris.csv')\n",
    "\n",
    "# Cleaning the Data\n",
    "iris.drop(columns=\"Id\", inplace=True)"
   ],
   "outputs": [],
   "metadata": {}
  },
  {
   "cell_type": "code",
   "execution_count": 25,
   "source": [
    "# Features and Labels\n",
    "X = iris.iloc[:, 0:4].values\n",
    "y = iris.iloc[:, 4].values\n",
    "\n",
    "# Train and Test split\n",
    "X_train, X_test, y_train, y_test = train_test_split(X, y, test_size=0.2, random_state=0)"
   ],
   "outputs": [],
   "metadata": {}
  },
  {
   "cell_type": "code",
   "execution_count": 26,
   "source": [
    "# Number of nearest neighbours considered\n",
    "k = 3\n",
    "\n",
    "# calculate score from predictions as number of correct predictions / total number of predictions \n",
    "predictions = knn(X_train, y_train, X_test, k)\n",
    "correct = sum(predictions == y_test)\n",
    "\n",
    "# Accuracy\n",
    "accuracy = (correct / len(predictions)) * 100\n",
    "print('Accuracy: %.3f%%' % accuracy)"
   ],
   "outputs": [
    {
     "output_type": "stream",
     "name": "stdout",
     "text": [
      "Accuracy: 96.667%\n"
     ]
    }
   ],
   "metadata": {}
  }
 ],
 "metadata": {
  "kernelspec": {
   "name": "python3",
   "display_name": "Python 3.8.10 64-bit"
  },
  "language_info": {
   "codemirror_mode": {
    "name": "ipython",
    "version": 3
   },
   "file_extension": ".py",
   "mimetype": "text/x-python",
   "name": "python",
   "nbconvert_exporter": "python",
   "pygments_lexer": "ipython3",
   "version": "3.8.10"
  },
  "interpreter": {
   "hash": "e7370f93d1d0cde622a1f8e1c04877d8463912d04d973331ad4851f04de6915a"
  }
 },
 "nbformat": 4,
 "nbformat_minor": 4
}