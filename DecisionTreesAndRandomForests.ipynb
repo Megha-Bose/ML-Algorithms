{
  "nbformat": 4,
  "nbformat_minor": 2,
  "metadata": {
    "colab": {
      "name": "2019111021_DecisionTreesAndRandomForests.ipynb",
      "provenance": []
    },
    "interpreter": {
      "hash": "1f8d80d535cfd832283e4e3a1095d2ce45fe6627336684f2622a1965babb2f1c"
    },
    "kernelspec": {
      "display_name": "Python 3.9.7 64-bit (windows store)",
      "name": "python3"
    },
    "language_info": {
      "codemirror_mode": {
        "name": "ipython",
        "version": 3
      },
      "file_extension": ".py",
      "mimetype": "text/x-python",
      "name": "python",
      "nbconvert_exporter": "python",
      "pygments_lexer": "ipython3",
      "version": "3.8.10"
    },
    "orig_nbformat": 4
  },
  "cells": [
    {
      "cell_type": "markdown",
      "source": [
        "# **Decision Trees**\n",
        "\n",
        "The Wisconsin Breast Cancer Dataset(WBCD) can be found here(https://archive.ics.uci.edu/ml/machine-learning-databases/breast-cancer-wisconsin/breast-cancer-wisconsin.data)\n",
        "\n",
        "This dataset describes the characteristics of the cell nuclei of various patients with and without breast cancer. The task is to classify a decision tree to predict if a patient has a benign or a malignant tumour based on these features.\n",
        "\n",
        "Attribute Information:\n",
        "```\n",
        "#  Attribute                     Domain\n",
        "   -- -----------------------------------------\n",
        "   1. Sample code number            id number\n",
        "   2. Clump Thickness               1 - 10\n",
        "   3. Uniformity of Cell Size       1 - 10\n",
        "   4. Uniformity of Cell Shape      1 - 10\n",
        "   5. Marginal Adhesion             1 - 10\n",
        "   6. Single Epithelial Cell Size   1 - 10\n",
        "   7. Bare Nuclei                   1 - 10\n",
        "   8. Bland Chromatin               1 - 10\n",
        "   9. Normal Nucleoli               1 - 10\n",
        "  10. Mitoses                       1 - 10\n",
        "  11. Class:                        (2 for benign, 4 for malignant)\n",
        "```"
      ],
      "metadata": {
        "id": "Q0_wToNFHMN3"
      }
    },
    {
      "cell_type": "code",
      "execution_count": 32,
      "source": [
        "import numpy as np\n",
        "import pandas as pd\n",
        "import matplotlib.pyplot as plt\n",
        "from sklearn import tree\n",
        "from sklearn.tree import DecisionTreeClassifier\n",
        "from sklearn.metrics import accuracy_score\n",
        "from sklearn.model_selection import train_test_split\n",
        "from collections import Counter"
      ],
      "outputs": [],
      "metadata": {
        "id": "qYdlWpUVHMOB"
      }
    },
    {
      "cell_type": "code",
      "execution_count": 33,
      "source": [
        "headers = [\"ID\",\"CT\",\"UCSize\",\"UCShape\",\"MA\",\"SECSize\",\"BN\",\"BC\",\"NN\",\"Mitoses\",\"Diagnosis\"]\n",
        "data = pd.read_csv('breast-cancer-wisconsin.data', na_values='?', header=None, index_col=['ID'], names = headers) \n",
        "data = data.reset_index(drop=True)\n",
        "data = data.fillna(0)\n",
        "data.describe()"
      ],
      "outputs": [
        {
          "output_type": "execute_result",
          "data": {
            "text/html": [
              "<div>\n",
              "<style scoped>\n",
              "    .dataframe tbody tr th:only-of-type {\n",
              "        vertical-align: middle;\n",
              "    }\n",
              "\n",
              "    .dataframe tbody tr th {\n",
              "        vertical-align: top;\n",
              "    }\n",
              "\n",
              "    .dataframe thead th {\n",
              "        text-align: right;\n",
              "    }\n",
              "</style>\n",
              "<table border=\"1\" class=\"dataframe\">\n",
              "  <thead>\n",
              "    <tr style=\"text-align: right;\">\n",
              "      <th></th>\n",
              "      <th>CT</th>\n",
              "      <th>UCSize</th>\n",
              "      <th>UCShape</th>\n",
              "      <th>MA</th>\n",
              "      <th>SECSize</th>\n",
              "      <th>BN</th>\n",
              "      <th>BC</th>\n",
              "      <th>NN</th>\n",
              "      <th>Mitoses</th>\n",
              "      <th>Diagnosis</th>\n",
              "    </tr>\n",
              "  </thead>\n",
              "  <tbody>\n",
              "    <tr>\n",
              "      <th>count</th>\n",
              "      <td>699.000000</td>\n",
              "      <td>699.000000</td>\n",
              "      <td>699.000000</td>\n",
              "      <td>699.000000</td>\n",
              "      <td>699.000000</td>\n",
              "      <td>699.000000</td>\n",
              "      <td>699.000000</td>\n",
              "      <td>699.000000</td>\n",
              "      <td>699.000000</td>\n",
              "      <td>699.000000</td>\n",
              "    </tr>\n",
              "    <tr>\n",
              "      <th>mean</th>\n",
              "      <td>4.417740</td>\n",
              "      <td>3.134478</td>\n",
              "      <td>3.207439</td>\n",
              "      <td>2.806867</td>\n",
              "      <td>3.216023</td>\n",
              "      <td>3.463519</td>\n",
              "      <td>3.437768</td>\n",
              "      <td>2.866953</td>\n",
              "      <td>1.589413</td>\n",
              "      <td>2.689557</td>\n",
              "    </tr>\n",
              "    <tr>\n",
              "      <th>std</th>\n",
              "      <td>2.815741</td>\n",
              "      <td>3.051459</td>\n",
              "      <td>2.971913</td>\n",
              "      <td>2.855379</td>\n",
              "      <td>2.214300</td>\n",
              "      <td>3.640708</td>\n",
              "      <td>2.438364</td>\n",
              "      <td>3.053634</td>\n",
              "      <td>1.715078</td>\n",
              "      <td>0.951273</td>\n",
              "    </tr>\n",
              "    <tr>\n",
              "      <th>min</th>\n",
              "      <td>1.000000</td>\n",
              "      <td>1.000000</td>\n",
              "      <td>1.000000</td>\n",
              "      <td>1.000000</td>\n",
              "      <td>1.000000</td>\n",
              "      <td>0.000000</td>\n",
              "      <td>1.000000</td>\n",
              "      <td>1.000000</td>\n",
              "      <td>1.000000</td>\n",
              "      <td>2.000000</td>\n",
              "    </tr>\n",
              "    <tr>\n",
              "      <th>25%</th>\n",
              "      <td>2.000000</td>\n",
              "      <td>1.000000</td>\n",
              "      <td>1.000000</td>\n",
              "      <td>1.000000</td>\n",
              "      <td>2.000000</td>\n",
              "      <td>1.000000</td>\n",
              "      <td>2.000000</td>\n",
              "      <td>1.000000</td>\n",
              "      <td>1.000000</td>\n",
              "      <td>2.000000</td>\n",
              "    </tr>\n",
              "    <tr>\n",
              "      <th>50%</th>\n",
              "      <td>4.000000</td>\n",
              "      <td>1.000000</td>\n",
              "      <td>1.000000</td>\n",
              "      <td>1.000000</td>\n",
              "      <td>2.000000</td>\n",
              "      <td>1.000000</td>\n",
              "      <td>3.000000</td>\n",
              "      <td>1.000000</td>\n",
              "      <td>1.000000</td>\n",
              "      <td>2.000000</td>\n",
              "    </tr>\n",
              "    <tr>\n",
              "      <th>75%</th>\n",
              "      <td>6.000000</td>\n",
              "      <td>5.000000</td>\n",
              "      <td>5.000000</td>\n",
              "      <td>4.000000</td>\n",
              "      <td>4.000000</td>\n",
              "      <td>5.000000</td>\n",
              "      <td>5.000000</td>\n",
              "      <td>4.000000</td>\n",
              "      <td>1.000000</td>\n",
              "      <td>4.000000</td>\n",
              "    </tr>\n",
              "    <tr>\n",
              "      <th>max</th>\n",
              "      <td>10.000000</td>\n",
              "      <td>10.000000</td>\n",
              "      <td>10.000000</td>\n",
              "      <td>10.000000</td>\n",
              "      <td>10.000000</td>\n",
              "      <td>10.000000</td>\n",
              "      <td>10.000000</td>\n",
              "      <td>10.000000</td>\n",
              "      <td>10.000000</td>\n",
              "      <td>4.000000</td>\n",
              "    </tr>\n",
              "  </tbody>\n",
              "</table>\n",
              "</div>"
            ],
            "text/plain": [
              "               CT      UCSize     UCShape  ...          NN     Mitoses   Diagnosis\n",
              "count  699.000000  699.000000  699.000000  ...  699.000000  699.000000  699.000000\n",
              "mean     4.417740    3.134478    3.207439  ...    2.866953    1.589413    2.689557\n",
              "std      2.815741    3.051459    2.971913  ...    3.053634    1.715078    0.951273\n",
              "min      1.000000    1.000000    1.000000  ...    1.000000    1.000000    2.000000\n",
              "25%      2.000000    1.000000    1.000000  ...    1.000000    1.000000    2.000000\n",
              "50%      4.000000    1.000000    1.000000  ...    1.000000    1.000000    2.000000\n",
              "75%      6.000000    5.000000    5.000000  ...    4.000000    1.000000    4.000000\n",
              "max     10.000000   10.000000   10.000000  ...   10.000000   10.000000    4.000000\n",
              "\n",
              "[8 rows x 10 columns]"
            ]
          },
          "metadata": {},
          "execution_count": 33
        }
      ],
      "metadata": {
        "colab": {
          "base_uri": "https://localhost:8080/",
          "height": 295
        },
        "id": "Hmz2DkPC5g7k",
        "outputId": "a90e2365-4479-4db0-ac41-56c1ab91bc99"
      }
    },
    {
      "cell_type": "code",
      "execution_count": 34,
      "source": [
        "dt_best_gini_accuracy = 0\n",
        "dt_best_entropy_accuracy = 0"
      ],
      "outputs": [],
      "metadata": {
        "id": "4qcJmlkMxjYL"
      }
    },
    {
      "cell_type": "markdown",
      "source": [
        "1. a) Implement a decision tree (you can use decision tree implementation from existing libraries)."
      ],
      "metadata": {
        "id": "x_gQq5qrHMOG"
      }
    },
    {
      "cell_type": "code",
      "execution_count": 35,
      "source": [
        "def decision_tree(X_train, y_train, criterion, max_depth=None, min_samples_leaf=2,min_samples_split = 2, min_impurity_decrease=0, ccp_alpha = 0.0):\n",
        "    clf = DecisionTreeClassifier(criterion=criterion, max_depth=max_depth,min_samples_split=min_samples_split, min_samples_leaf=min_samples_leaf, min_impurity_decrease=min_impurity_decrease, random_state=0, ccp_alpha=ccp_alpha)\n",
        "    clf.fit(X_train, y_train)\n",
        "    return clf"
      ],
      "outputs": [],
      "metadata": {
        "id": "g6R3GmzBHMOH"
      }
    },
    {
      "cell_type": "markdown",
      "source": [
        "1. b) Train a decision tree object of the above class on the WBC dataset using misclassification rate, entropy and Gini as the splitting metrics."
      ],
      "metadata": {
        "id": "VZ7N9m_mHMOJ"
      }
    },
    {
      "cell_type": "code",
      "execution_count": 36,
      "source": [
        "X = data.drop(['Diagnosis'], axis=1)\n",
        "y = data['Diagnosis']"
      ],
      "outputs": [],
      "metadata": {
        "id": "eHFij6PaHMOJ"
      }
    },
    {
      "cell_type": "code",
      "execution_count": 37,
      "source": [
        "X_train, X_test, y_train, y_test = train_test_split(X, y, random_state=1)\n",
        "dt_split_gini = decision_tree(X_train, y_train, 'gini')\n",
        "dt_split_entropy = decision_tree(X_train, y_train, 'entropy')"
      ],
      "outputs": [],
      "metadata": {
        "id": "aBVhcEbz2xbR"
      }
    },
    {
      "cell_type": "markdown",
      "source": [
        "1. c) Report the accuracies in each of the above splitting metrics and give the best result. "
      ],
      "metadata": {
        "id": "eXEjInvmHMOK"
      }
    },
    {
      "cell_type": "code",
      "execution_count": 38,
      "source": [
        "gini_accuracy = accuracy_score(y_test, dt_split_gini.predict(X_test))\n",
        "entropy_accuracy = accuracy_score(y_test, dt_split_entropy.predict(X_test))"
      ],
      "outputs": [],
      "metadata": {
        "id": "49QZvmgNHMOL"
      }
    },
    {
      "cell_type": "code",
      "execution_count": 39,
      "source": [
        "print('Accuracy of DT using Gini Index:', gini_accuracy)\n",
        "print('Accuracy of DT using Entropy:', entropy_accuracy)\n",
        "\n",
        "print(max(gini_accuracy, entropy_accuracy))\n",
        "\n",
        "dt_best_gini_accuracy = max(dt_best_gini_accuracy, gini_accuracy)\n",
        "dt_best_entropy_accuracy = max(dt_best_entropy_accuracy, entropy_accuracy)"
      ],
      "outputs": [
        {
          "output_type": "stream",
          "name": "stdout",
          "text": [
            "Accuracy of DT using Gini Index: 0.9542857142857143\n",
            "Accuracy of DT using Entropy: 0.9428571428571428\n",
            "0.9542857142857143\n"
          ]
        }
      ],
      "metadata": {
        "colab": {
          "base_uri": "https://localhost:8080/"
        },
        "id": "ZpYzy7xV3eNn",
        "outputId": "dcb536e2-9ee7-492c-88f0-e894fabb51c4"
      }
    },
    {
      "cell_type": "markdown",
      "source": [
        "1. d) Experiment with different approaches to decide when to terminate the tree (number of layers, purity measure, etc). Report and give explanations for all approaches. "
      ],
      "metadata": {
        "id": "Bz_7nYxPHMON"
      }
    },
    {
      "cell_type": "markdown",
      "source": [
        "### Method 1: Controlling the maximum depth of the decision tree\n",
        "\n",
        "We will allow the tree to grow to a maximum depth. If the maximum depth allowed is too high, the desicion tree might overfit on the training data."
      ],
      "metadata": {
        "id": "PKfv0zReQHt5"
      }
    },
    {
      "cell_type": "code",
      "execution_count": 40,
      "source": [
        "plt.title('Max Depth vs Accuracy Plots')\n",
        "gini_accuracies = []\n",
        "entropy_accuracies = []\n",
        "for d in range(1, 20):\n",
        "    dt_gini = decision_tree(X_train, y_train, 'gini', max_depth=d)\n",
        "    gini_acc = accuracy_score(y_test, dt_gini.predict(X_test))\n",
        "    gini_accuracies.append(gini_acc)\n",
        "    dt_entropy = decision_tree(X_train, y_train, 'entropy', max_depth=d)\n",
        "    entropy_acc = accuracy_score(y_test, dt_entropy.predict(X_test))\n",
        "    entropy_accuracies.append(entropy_acc)\n",
        "plt.xticks(range(1,20))\n",
        "plt.plot(range(1,20), gini_accuracies, label='Gini Index')\n",
        "plt.plot(range(1,20), entropy_accuracies, label='Entropy')\n",
        "plt.xlabel('Max Depth')\n",
        "plt.ylabel('Accuracy')\n",
        "plt.legend()\n",
        "plt.show()\n",
        "\n",
        "dt_best_gini_accuracy = max(dt_best_gini_accuracy, np.max(gini_accuracies))\n",
        "dt_best_entropy_accuracy = max(dt_best_entropy_accuracy, np.max(entropy_accuracies))"
      ],
      "outputs": [
        {
          "output_type": "display_data",
          "data": {
            "image/png": "[encoded data removed]",
            "text/plain": [
              "<Figure size 432x288 with 1 Axes>"
            ]
          },
          "metadata": {
            "needs_background": "light"
          }
        }
      ],
      "metadata": {
        "colab": {
          "base_uri": "https://localhost:8080/",
          "height": 295
        },
        "id": "pFi1DjiyQHt5",
        "outputId": "8841f19d-5173-462f-ff50-6de6d940f1dc"
      }
    },
    {
      "cell_type": "markdown",
      "source": [
        "### Method 2: Controlling the minimum number of samples required to do a split of an internal node\n",
        "\n",
        "If the number of samples at a node is less than this minimum number, then that node is not split. Higher values prevent a model from learning relations highly specific to the particular samples selected. Too high values can lead to under-fitting."
      ],
      "metadata": {
        "id": "8HLX2LsaQHt6"
      }
    },
    {
      "cell_type": "code",
      "execution_count": 41,
      "source": [
        "plt.title('Min samples for split vs Accuracy Plots')\n",
        "gini_accuracies = []\n",
        "entropy_accuracies = []\n",
        "for d in range(2, 20):\n",
        "    dt_gini = decision_tree(X_train, y_train, 'gini', min_samples_split=d)\n",
        "    gini_acc = accuracy_score(y_test, dt_gini.predict(X_test))\n",
        "    gini_accuracies.append(gini_acc)\n",
        "    dt_entropy = decision_tree(X_train, y_train, 'entropy', min_samples_split=d)\n",
        "    entropy_acc = accuracy_score(y_test, dt_entropy.predict(X_test))\n",
        "    entropy_accuracies.append(entropy_acc)\n",
        "plt.xticks(range(2,20))\n",
        "plt.plot(range(2,20), gini_accuracies, label='Gini Index')\n",
        "plt.plot(range(2,20), entropy_accuracies, label='Entropy')\n",
        "plt.xlabel('Min Samples for Split')\n",
        "plt.ylabel('Accuracy')\n",
        "plt.legend()\n",
        "plt.show()\n",
        "\n",
        "dt_best_gini_accuracy = max(dt_best_gini_accuracy, np.max(gini_accuracies))\n",
        "dt_best_entropy_accuracy = max(dt_best_entropy_accuracy, np.max(entropy_accuracies))"
      ],
      "outputs": [
        {
          "output_type": "display_data",
          "data": {
            "image/png": "[encoded data removed]",
            "text/plain": [
              "<Figure size 432x288 with 1 Axes>"
            ]
          },
          "metadata": {
            "needs_background": "light"
          }
        }
      ],
      "metadata": {
        "colab": {
          "base_uri": "https://localhost:8080/",
          "height": 295
        },
        "id": "ZaykgiIGQHt6",
        "outputId": "30a91444-48d4-4ab6-982f-fdb277432014"
      }
    },
    {
      "cell_type": "markdown",
      "source": [
        "### Method 3: Pruning Method: Cost Complexity Pruning\n",
        "\n",
        "Greater values of ccp_alpha increase the number of nodes pruned. Minimal cost complexity pruning recursively finds the node with the “weakest link”. The weakest link is characterized by an effective alpha, where the nodes with the smallest effective alpha are pruned first.\n",
        "\n",
        "To get an idea of what values of ccp_alpha could be appropriate, scikit-learn provides `DecisionTreeClassifier.cost_complexity_pruning_path` that returns the effective alphas and the corresponding total leaf impurities at each step of the pruning process.As alpha increases, more of the tree is pruned, which increases the total impurity of its leaves."
      ],
      "metadata": {
        "id": "2vqj1NzGBDvn"
      }
    },
    {
      "cell_type": "code",
      "execution_count": 42,
      "source": [
        "gini_path = dt_gini.cost_complexity_pruning_path(X_train, y_train)\n",
        "entropy_path = dt_entropy.cost_complexity_pruning_path(X_train, y_train)\n",
        "ccp_alphas_gini = gini_path.ccp_alphas[:-1]\n",
        "ccp_alphas_entropy = entropy_path.ccp_alphas[:-1]\n",
        "\n",
        "plt.title('ccp_alpha vs Accuracy')\n",
        "\n",
        "# Gini Index\n",
        "accuracy_list = []\n",
        "accuracy_train_list = []\n",
        "for i in ccp_alphas_gini:\n",
        "    dt_gini = decision_tree(X_train, y_train, 'gini', ccp_alpha = i)\n",
        "    accuracy_train_list.append(accuracy_score(y_train, dt_gini.predict(X_train)))\n",
        "    accuracy = accuracy_score(y_test, dt_gini.predict(X_test))\n",
        "    accuracy_list.append(accuracy)\n",
        "plt.plot(ccp_alphas_gini, accuracy_train_list, label='Gini Index on Training Set', drawstyle=\"steps-post\")\n",
        "plt.plot(ccp_alphas_gini, accuracy_list, label='Gini Index on Test Set', drawstyle=\"steps-post\")\n",
        "plt.legend()\n",
        "plt.show()\n",
        "\n",
        "dt_best_gini_accuracy = max(dt_best_gini_accuracy, np.max(accuracy_list))\n",
        "\n",
        "# Entropy\n",
        "accuracy_list = []\n",
        "accuracy_train_list = []\n",
        "for i in ccp_alphas_entropy:\n",
        "    dt_entropy = decision_tree(X_train, y_train, 'entropy', ccp_alpha = i)\n",
        "    accuracy_train_list.append(accuracy_score(y_train, dt_entropy.predict(X_train)))\n",
        "    accuracy = accuracy_score(y_test, dt_entropy.predict(X_test))\n",
        "    accuracy_list.append(accuracy)\n",
        "plt.plot(ccp_alphas_entropy, accuracy_train_list, label='Entropy on Training Set', drawstyle=\"steps-post\")\n",
        "plt.plot(ccp_alphas_entropy, accuracy_list, label='Entropy on Test Set', drawstyle=\"steps-post\")\n",
        "plt.xlabel('ccp_alpha')\n",
        "plt.ylabel('Accuracy')\n",
        "\n",
        "plt.legend()\n",
        "plt.show()\n",
        "\n",
        "dt_best_entropy_accuracy = max(dt_best_entropy_accuracy, np.max(accuracy_list))"
      ],
      "outputs": [
        {
          "output_type": "display_data",
          "data": {
            "image/png": "[encoded data removed]",
            "text/plain": [
              "<Figure size 432x288 with 1 Axes>"
            ]
          },
          "metadata": {
            "needs_background": "light"
          }
        },
        {
          "output_type": "display_data",
          "data": {
            "image/png": "[encoded data removed]",
            "text/plain": [
              "<Figure size 432x288 with 1 Axes>"
            ]
          },
          "metadata": {
            "needs_background": "light"
          }
        }
      ],
      "metadata": {
        "id": "NZ9pRWqgBGd3",
        "colab": {
          "base_uri": "https://localhost:8080/",
          "height": 544
        },
        "outputId": "e1ba5942-9c9b-4b14-f717-d8d9bb5b8185"
      }
    },
    {
      "cell_type": "markdown",
      "source": [
        "### Method 4: Controllling the number of samples required to be at leaf node\n",
        "\n",
        "Increasing the value slightly increases the accuracy of the model because when it is low, the tree might overfit on the training data. Higher values ensure that the tree doesnot overfit the training dataset by creating many small branches exclusively with one sample each, i.e. with impurity of 0."
      ],
      "metadata": {
        "id": "xJzs0LhrQHt6"
      }
    },
    {
      "cell_type": "code",
      "execution_count": 43,
      "source": [
        "plt.title('Min samples for split vs Accuracy Plots')\n",
        "gini_accuracies = []\n",
        "entropy_accuracies = []\n",
        "for d in range(2, 20):\n",
        "    dt_gini = decision_tree(X_train, y_train, 'gini', min_samples_leaf=d)\n",
        "    gini_acc = accuracy_score(y_test, dt_gini.predict(X_test))\n",
        "    gini_accuracies.append(gini_acc)\n",
        "    dt_entropy = decision_tree(X_train, y_train, 'entropy', min_samples_leaf=d)\n",
        "    entropy_acc = accuracy_score(y_test, dt_entropy.predict(X_test))\n",
        "    entropy_accuracies.append(entropy_acc)\n",
        "plt.xticks(range(2,20))\n",
        "plt.plot(range(2,20), gini_accuracies, label='Gini Index')\n",
        "plt.plot(range(2,20), entropy_accuracies, label='Entropy')\n",
        "plt.xlabel('Min Samples in Leaf')\n",
        "plt.ylabel('Accuracy')\n",
        "plt.legend()\n",
        "plt.show()\n",
        "\n",
        "\n",
        "dt_best_gini_accuracy = max(dt_best_gini_accuracy, np.max(gini_accuracies))\n",
        "dt_best_entropy_accuracy = max(dt_best_entropy_accuracy, np.max(entropy_accuracies))"
      ],
      "outputs": [
        {
          "output_type": "display_data",
          "data": {
            "image/png": "[encoded data removed]",
            "text/plain": [
              "<Figure size 432x288 with 1 Axes>"
            ]
          },
          "metadata": {
            "needs_background": "light"
          }
        }
      ],
      "metadata": {
        "colab": {
          "base_uri": "https://localhost:8080/",
          "height": 295
        },
        "id": "vQ1JVY4tQHt7",
        "outputId": "e40a1a1f-18e6-429c-fdf7-56498fbd5318"
      }
    },
    {
      "cell_type": "markdown",
      "source": [
        "\n",
        "\n",
        "### 2. What is boosting, bagging and  stacking?Which class does random forests belong to and why?"
      ],
      "metadata": {
        "id": "uWAN_wWXHMOQ"
      }
    },
    {
      "cell_type": "markdown",
      "source": [
        "Answer:\n",
        "\n",
        "Weak learner models are models that can be used as building blocks for designing more complex models by combining several of them. Most of the time, these basics models perform not so well by themselves either because they have a high bias or because they have too high variance. \n",
        "\n",
        "Three meta-algorithms are used to combine weak learners:\n",
        " Boosting, Bagging and Stacking\n",
        "\n",
        "\n",
        "### Boosting\n",
        "\n",
        "Bossting method is a statistical technique that often considers homogeneous weak learners, learns them sequentially in a very adaptative way and combines them following a deterministic strategy. It generates samples of size B which are called bootstrapping samples from an initial dataset by randomly drawing with replacement B observations.\n",
        "\n",
        "Boosting works with underfit nonparametric regression models. These models fail to understand the underlying distribution of the data, thus giving high bias. The data might have useful information, but the model might not capture it.\n",
        "\n",
        "Hence, we train new models on the residuals of the previous model and then select the best model or combination of models.\n",
        "\n",
        "### Bagging\n",
        "\n",
        "Bagging considers homogeneous weak learners, learns them independently from each other in parallel and combines them following some kind of deterministic averaging process.\n",
        "\n",
        "We fit several independent models and average out their predictions in order to obtain a model with a lower variance. However, in practice, we cannot fully fit independent models because that would require too much data. Hence, we rely on the approximate properties of bootstrap samples like representativity and independence, to fit models that are almost independent. \n",
        "\n",
        "We create multiple bootstrap samples so that each new bootstrap sample acts as another independent dataset drawn from true distribution. Then, we can fit a weak learner for each of these samples and finally aggregate them to obtain an ensemble model with less variance than its components.\n",
        "\n",
        "### Stacking\n",
        "\n",
        "Stacking considers heterogeneous weak learners, learns them in parallel and combines them by training a meta-model to output a prediction based on the different weak models predictions. The idea of stacking is to learn several different weak learners and combine them by training a meta-model to output predictions based on the multiple predictions returned by these weak models. Instead of using weights for combining models, we train another model to decide when to use a model in the ensemble to get better results.\n",
        "\n",
        "### Which class does random forests belong to and why?\n",
        "\n",
        "The random forest approach is a bagging method where deep trees, fitted on bootstrap samples, are combined to produce an output with lower variance. Desicion trees are in general overfit models (without pruning). Using bootstrap aggregating or bagging in random forests on decision trees, we get better results."
      ],
      "metadata": {
        "id": "LnO5uqHlHMOR"
      }
    },
    {
      "cell_type": "markdown",
      "source": [
        "3. Implement random forest algorithm using different decision trees . "
      ],
      "metadata": {
        "id": "pihvGbqLHMOS"
      }
    },
    {
      "cell_type": "code",
      "execution_count": 44,
      "source": [
        "class RandomForest:\n",
        "    def __init__(self, max_depth, min_size, n_trees, n_features, criterion):\n",
        "        self.n_trees = n_trees\n",
        "        self.criterion = criterion\n",
        "        self.max_depth = max_depth\n",
        "        self.min_size = min_size\n",
        "        self.n_features = n_features\n",
        "        self.forest = []\n",
        "\n",
        "    def fit(self, X, y):\n",
        "        X = np.array(X)\n",
        "        y = np.array(y)\n",
        "        for _ in range(self.n_trees):\n",
        "            samples = np.random.choice(np.arange(X.shape[0]), size=X.shape[0], replace=True)\n",
        "            X_sample = X[samples]\n",
        "            y_sample = y[samples]\n",
        "            tree = DecisionTreeClassifier(max_depth=self.max_depth, min_samples_leaf=self.min_size , max_features=self.n_features, criterion=self.criterion)\n",
        "            tree.fit(X_sample, y_sample)\n",
        "            self.forest.append(tree)\n",
        " \n",
        "    def predict(self, X_test):\n",
        "        X_test = np.array(X_test)\n",
        "        y_pred = []\n",
        "        for tree in self.forest:\n",
        "            y_pred.append(tree.predict(X_test))\n",
        "        y = np.swapaxes(y_pred, 0, 1)\n",
        "        predictions = []\n",
        "        for prediction in y:\n",
        "            count = Counter(prediction)\n",
        "            predictions.append(count.most_common(1)[0][0])\n",
        "        return predictions\n",
        "    \n",
        "    def accuracy(self, X_test, y_test):\n",
        "        X_test = np.array(X_test)\n",
        "        y_test = np.array(y_test)\n",
        "        y_pred = self.predict(X_test)\n",
        "        return accuracy_score(y_test, y_pred)"
      ],
      "outputs": [],
      "metadata": {
        "id": "zWqpd6gBQHt9"
      }
    },
    {
      "cell_type": "code",
      "execution_count": 45,
      "source": [
        "rf = RandomForest(max_depth=10, min_size=2, n_trees=20, n_features=2, criterion='gini')\n",
        "rf.fit(X_train, y_train)\n",
        "rf_acc = rf.accuracy(X_test, y_test)\n",
        "print('Random Forest Accuracy: ', rf_acc)"
      ],
      "outputs": [
        {
          "output_type": "stream",
          "name": "stdout",
          "text": [
            "Random Forest Accuracy:  0.9714285714285714\n"
          ]
        }
      ],
      "metadata": {
        "id": "U3YdsQdIQHt9",
        "colab": {
          "base_uri": "https://localhost:8080/"
        },
        "outputId": "57a7ff1e-fd7a-4fef-83cc-4044cb61d6e1"
      }
    },
    {
      "cell_type": "markdown",
      "source": [
        "4. Report the accuracies obtained after using the Random forest algorithm and compare it with the best accuracies obtained with the decision trees. "
      ],
      "metadata": {
        "id": "zJOn5nNZHMOU"
      }
    },
    {
      "cell_type": "code",
      "execution_count": 46,
      "source": [
        "rf_gini = RandomForest(max_depth=10, min_size=2, n_trees=200, n_features=2, criterion='gini')\n",
        "rf_gini.fit(X_train, y_train)\n",
        "\n",
        "rf_entropy = RandomForest(max_depth=10, min_size=2, n_trees=200, n_features=2, criterion='entropy')\n",
        "rf_entropy.fit(X_train, y_train)\n",
        "\n",
        "rf_gini_accuracy = accuracy_score(y_test, rf_gini.predict(X_test))\n",
        "rf_entropy_accuracy = accuracy_score(y_test, rf_entropy.predict(X_test))\n",
        "\n",
        "print('Random Forest Accuracy (Gini): ', rf_gini_accuracy)\n",
        "print('Random Forest Accuracy (Entropy): ', rf_entropy_accuracy)\n",
        "\n",
        "print('Best Decision Tree Accuracy (Gini): ', dt_best_gini_accuracy)\n",
        "print('Best Decision Tree Accuracy (Entropy): ', dt_best_entropy_accuracy)"
      ],
      "outputs": [
        {
          "output_type": "stream",
          "name": "stdout",
          "text": [
            "Random Forest Accuracy (Gini):  0.9828571428571429\n",
            "Random Forest Accuracy (Entropy):  0.9828571428571429\n",
            "Best Decision Tree Accuracy (Gini):  0.9714285714285714\n",
            "Best Decision Tree Accuracy (Entropy):  0.9542857142857143\n"
          ]
        }
      ],
      "metadata": {
        "id": "Ce4KiiIGHMOV",
        "colab": {
          "base_uri": "https://localhost:8080/"
        },
        "outputId": "99c89ac8-06ea-4a8c-a2f7-3beba037912b"
      }
    }
  ]
}